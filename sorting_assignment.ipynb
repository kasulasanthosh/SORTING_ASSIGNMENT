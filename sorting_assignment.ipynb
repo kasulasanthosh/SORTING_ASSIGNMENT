{
 "cells": [
  {
   "cell_type": "code",
   "execution_count": 7,
   "id": "efd88bad-7630-4ce6-a15c-dc11d1a6be54",
   "metadata": {},
   "outputs": [
    {
     "name": "stdout",
     "output_type": "stream",
     "text": [
      "2\n"
     ]
    }
   ],
   "source": [
    "# Problem 1.Given an array of n numbers, give an algorithm which gives the element appearing maximum number of times\n",
    "def maxNumberofTimes(arr):\n",
    "    max_count=0\n",
    "    maxfrequ=0\n",
    "    for i in range(len(arr)-1):\n",
    "        count=0\n",
    "        for j in range (len(arr)-1):\n",
    "            if arr[j]==arr[i]:\n",
    "                count+=1\n",
    "        if count>max_count:\n",
    "            max_count=count\n",
    "            maxfrequ=arr[i]\n",
    "    return maxfrequ\n",
    "arr=[1,2,2,4,5,5,6]\n",
    "print(maxNumberofTimes(arr))\n",
    "    \n",
    "    \n",
    "    "
   ]
  },
  {
   "cell_type": "code",
   "execution_count": 6,
   "id": "e70d71db-9676-4bcd-a3b9-f0db5c38ac1b",
   "metadata": {},
   "outputs": [
    {
     "name": "stdout",
     "output_type": "stream",
     "text": [
      "3\n"
     ]
    }
   ],
   "source": [
    "'''Problem 2 : We are given a list of n-1 integers and these integers are in the range of 1 to n . There are no \n",
    "duplicates in the list. One of the integers is missing in the list. Give an algorithm to find that element Ex: \n",
    "[1,2,4,6,3,7,8] 5 is the missing num.'''\n",
    "def missing_num(arr,start,end):\n",
    "    expected_sum=(end-start+1)*(end+start)//2\n",
    "    actual_sum=sum(arr)\n",
    "    missing_term=expected_sum-actual_sum\n",
    "    return missing_term\n",
    "arr=[5,4,2,1]\n",
    "print(missing_num(arr,1,5))\n",
    "   "
   ]
  },
  {
   "cell_type": "code",
   "execution_count": 31,
   "id": "34a142fb-4082-4518-8ee3-e49cb7f9ce75",
   "metadata": {},
   "outputs": [
    {
     "name": "stdout",
     "output_type": "stream",
     "text": [
      "3\n"
     ]
    }
   ],
   "source": [
    "'''Problem 3 : Given an array of n positive numbers. All numbers occurs even number of times except 1 which \n",
    "occurs odd number of times. Find that number in O(n) time and O(1) space. Ex: [1,2,3,2,3,1,3]. 3 is repeats odd \n",
    "times'''\n",
    "def find_odd_numberOftimes(arr):\n",
    "    result=0\n",
    "    for i in arr:\n",
    "        result^=i\n",
    "    return result\n",
    "arr=[1,2,3,2,3,1,3]\n",
    "print(find_odd_numberOftimes(arr))"
   ]
  },
  {
   "cell_type": "code",
   "execution_count": 37,
   "id": "3569bcb9-58cf-4846-9e10-96e9f16d8282",
   "metadata": {},
   "outputs": [
    {
     "name": "stdout",
     "output_type": "stream",
     "text": [
      "(5, 6)\n"
     ]
    }
   ],
   "source": [
    "# Problem 4 : Given an array of n elements. Find two elements in the array such that their sum is equal to given element K\n",
    "def find_two_sum(arr,k):\n",
    "    arr.sort()\n",
    "    left=0\n",
    "    right=len(arr)-1\n",
    "    while left<right:\n",
    "        c_sum=arr[left]+arr[right]\n",
    "        if c_sum==k:\n",
    "            return arr[left],arr[right]\n",
    "        elif c_sum<k:\n",
    "            left+=1\n",
    "        else:\n",
    "            right-=1\n",
    "arr=[1,2,3,4,5,6]\n",
    "print(find_two_sum(arr,11))"
   ]
  },
  {
   "cell_type": "code",
   "execution_count": 49,
   "id": "ec55a82f-c89e-41b6-9ec8-bfa166ed0c87",
   "metadata": {},
   "outputs": [
    {
     "name": "stdout",
     "output_type": "stream",
     "text": [
      "(-80, 85)\n"
     ]
    }
   ],
   "source": [
    "'''Problem 5 : Given an array of both positive and negative numbers, find two numbers such that their sum is \n",
    "closest to 0. Ex: \n",
    ". Ans : -80,85'''\n",
    "def find_closest_sumzero(arr):\n",
    "    arr.sort()\n",
    "    left=0\n",
    "    right=len(arr)-1\n",
    "    closest_sum=float('inf')\n",
    "    closest_pair=None\n",
    "    while left<right:\n",
    "        c_sum=arr[left]+arr[right]\n",
    "        c_diff=abs(c_sum)\n",
    "        if c_diff<closest_sum:\n",
    "            closest_sum=c_diff\n",
    "            closest_pair=(arr[left],arr[right])\n",
    "        if c_sum<0:\n",
    "            left+=1\n",
    "        elif c_sum>0:\n",
    "            right-=1\n",
    "        else:\n",
    "            return closest_pair\n",
    "    return closest_pair\n",
    "arr=[ 1 ,60 ,-10, 70, -80,85]\n",
    "print(find_closest_sumzero(arr))"
   ]
  },
  {
   "cell_type": "code",
   "execution_count": 4,
   "id": "89432ed0-2e18-4fb0-a6b4-2ce1aea5e543",
   "metadata": {},
   "outputs": [
    {
     "name": "stdout",
     "output_type": "stream",
     "text": [
      "(3, 10, 11)\n"
     ]
    }
   ],
   "source": [
    "#Problem 6 : Given an array of n elements . Find three elements such that their sum is equal to the given number\n",
    "def threeElementsArray(arr,sum_target):\n",
    "    arr.sort()\n",
    "    n=len(arr)\n",
    "    for i in range(n-2):\n",
    "        left=i+1\n",
    "        right=n-1\n",
    "        while left<right:\n",
    "            current_sum=arr[i]+arr[left]+arr[right]\n",
    "            if current_sum==sum_target:\n",
    "                return arr[i],arr[left],arr[right]\n",
    "            elif current_sum<sum_target:\n",
    "                left+=1\n",
    "            else:\n",
    "                right-=1\n",
    "    return None\n",
    "arr=[3, 4, 11, 6, 10, 7]\n",
    "print(threeElementsArray(arr,24))"
   ]
  },
  {
   "cell_type": "code",
   "execution_count": 5,
   "id": "08cdbe3b-f997-4cc9-8607-a4644b7f70ef",
   "metadata": {},
   "outputs": [
    {
     "name": "stdout",
     "output_type": "stream",
     "text": [
      "(3, 4, 5)\n"
     ]
    }
   ],
   "source": [
    "# Problem 7 : Given an array of n elements . Find three elements i, j, k in the array such that i * i + j * j = k*k\n",
    "def triplet_array(arr):\n",
    "    arr.sort()\n",
    "    for k in range(len(arr)-1,1,-1):\n",
    "        i=0\n",
    "        j=k-1\n",
    "        while i<j:\n",
    "            sum_squares=arr[i]**2+arr[j]**2\n",
    "            if sum_squares==arr[k]**2:\n",
    "                return arr[i],arr[j],arr[k]\n",
    "            elif sum_squares<arr[k]**2:\n",
    "                i+=1\n",
    "            else:\n",
    "                j-=1\n",
    "    return None\n",
    "arr = [3, 1, 4, 6, 5]\n",
    "print(triplet_array(arr))"
   ]
  },
  {
   "cell_type": "code",
   "execution_count": 5,
   "id": "c0a73835-a57a-4a26-ac83-495f93d82524",
   "metadata": {},
   "outputs": [
    {
     "name": "stdout",
     "output_type": "stream",
     "text": [
      "4\n",
      "Majority element: 4\n"
     ]
    }
   ],
   "source": [
    "#Problem 8 : An element is a majority if it appears more than n/2 times. Give an algorithm takes an array of n element as argument and identifies a majority (if it exists).\n",
    "\n",
    "def majorityElements(arr):\n",
    "    number=None\n",
    "    count=0\n",
    "    for i in arr:\n",
    "        if count==0:\n",
    "            number=i\n",
    "            count=1\n",
    "        elif number==i:\n",
    "            count+=1\n",
    "        else:\n",
    "            count-=1\n",
    "    count=arr.count(number)\n",
    "    if count>len(arr)//2:\n",
    "        return number\n",
    "    else:\n",
    "        return None\n",
    "arr = [3, 3, 4, 2, 4, 4, 2, 4, 4]\n",
    "result=majorityElements(arr)\n",
    "print(result)\n",
    "if result is not None:\n",
    "    print(f\"Majority element: {result}\")\n",
    "else:\n",
    "    print(\"No majority element found.\")\n",
    "\n"
   ]
  },
  {
   "cell_type": "code",
   "execution_count": 14,
   "id": "34990d33-1922-4bf5-b152-2664846df25e",
   "metadata": {},
   "outputs": [
    {
     "name": "stdout",
     "output_type": "stream",
     "text": [
      "Row with the maximum number of zeros: 1\n"
     ]
    }
   ],
   "source": [
    "#Problem 9 : Given n × n matrix, and in each row all 1’s are followed by 0’s. Find the row with the maximum number of 0’s.\n",
    "def rowwithMaxzeros(matrix):\n",
    "    n = len(matrix)\n",
    "    max_zeros_count = 0\n",
    "    max_zeros_row = -1\n",
    "\n",
    "    for i in range(n):\n",
    "        zeros_count = matrix[i].count(0)\n",
    "        \n",
    "        if zeros_count > max_zeros_count:\n",
    "            max_zeros_count = zeros_count\n",
    "            max_zeros_row = i\n",
    "\n",
    "    return max_zeros_row\n",
    "\n",
    "# Example usage:\n",
    "matrix = [\n",
    "    [1, 1, 1, 0, 0],\n",
    "    [1, 1, 0, 0, 0],\n",
    "    [1, 1, 1, 0, 0],\n",
    "    [1, 1, 1, 1, 0],\n",
    "    [1, 1, 1, 1, 1]\n",
    "]\n",
    "\n",
    "result = rowwithMaxzeros(matrix)\n",
    "\n",
    "if result != -1:\n",
    "    print(f\"Row with the maximum number of zeros: {result}\")\n",
    "else:\n",
    "    print(\"No row with zeros found.\")\n"
   ]
  },
  {
   "cell_type": "code",
   "execution_count": 7,
   "id": "8ab341f2-98aa-4c5c-a990-f9bdab7a5685",
   "metadata": {},
   "outputs": [
    {
     "name": "stdout",
     "output_type": "stream",
     "text": [
      "Sorted array: [0, 0, 0, 0, 0, 1, 1, 1, 1, 1, 2, 2]\n"
     ]
    }
   ],
   "source": [
    "'''Problem 10 : Sort an array of 0’s, 1’s and 2’s [or R’s, G’s and B’s]: Given an array A[] consisting of 0’s, 1’s and \n",
    "2’s, give an algorithm for sorting A[].The algorithm should put all 0’s first, then all 1’s and finally all 2’s at the \n",
    "end. Example Input = {0,1,1,0,1,2,1,2,0,0,0,1}, Output = {0,0,0,0,0,1,1,1,1,1,2,2}'''\n",
    "def sort_numbers(arr):\n",
    "    low, mid, high = 0, 0, len(arr) - 1\n",
    "\n",
    "    while mid <= high:\n",
    "        if arr[mid] == 0:\n",
    "            # Swap nums[low] and nums[mid], move both pointers to the right\n",
    "            arr[low], arr[mid] = arr[mid], arr[low]\n",
    "            low += 1\n",
    "            mid += 1\n",
    "        elif arr[mid] == 1:\n",
    "            # Move mid pointer to the right\n",
    "            mid += 1\n",
    "        else:\n",
    "            # Swap nums[mid] and nums[high], move high pointer to the left\n",
    "            arr[mid], arr[high] = arr[high], arr[mid]\n",
    "            high -= 1\n",
    "\n",
    "# Example usage:\n",
    "arr = [0, 1, 1, 0, 1, 2, 1, 2, 0, 0, 0, 1]\n",
    "sort_numbers(arr)\n",
    "print(\"Sorted array:\", arr)\n"
   ]
  },
  {
   "cell_type": "code",
   "execution_count": null,
   "id": "437dcaba-cd5e-4110-828b-9ece29e32c2e",
   "metadata": {},
   "outputs": [],
   "source": []
  },
  {
   "cell_type": "code",
   "execution_count": null,
   "id": "2fb31f6c-eeaa-4a5f-9a95-d1cfbab439dc",
   "metadata": {},
   "outputs": [],
   "source": []
  }
 ],
 "metadata": {
  "kernelspec": {
   "display_name": "Python 3 (ipykernel)",
   "language": "python",
   "name": "python3"
  },
  "language_info": {
   "codemirror_mode": {
    "name": "ipython",
    "version": 3
   },
   "file_extension": ".py",
   "mimetype": "text/x-python",
   "name": "python",
   "nbconvert_exporter": "python",
   "pygments_lexer": "ipython3",
   "version": "3.10.8"
  }
 },
 "nbformat": 4,
 "nbformat_minor": 5
}
